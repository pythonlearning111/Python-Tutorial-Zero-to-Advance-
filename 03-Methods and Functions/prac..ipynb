{
 "cells": [
  {
   "cell_type": "code",
   "execution_count": null,
   "metadata": {},
   "outputs": [],
   "source": [
    "#write a program to check if a given year is leap year or not\n",
    "def leap_year(year):\n",
    "    \n",
    "    #A year is leap year if it is divisibe by 4 and 400 or it is divisible by 4 and not divisible by 100.\n",
    "    \n",
    "    if (year %  4 == 0) and ((year % 100) != 0) or (year % 400 == 0):  \n",
    "        return 'Leap year'\n",
    "    \n",
    "    else:\n",
    "        return \"Not leap year\"\n",
    "      \n",
    "    "
   ]
  },
  {
   "cell_type": "code",
   "execution_count": null,
   "metadata": {},
   "outputs": [],
   "source": [
    "leap_year(1900)"
   ]
  },
  {
   "cell_type": "code",
   "execution_count": null,
   "metadata": {},
   "outputs": [],
   "source": [
    "leap_year(2004)"
   ]
  },
  {
   "cell_type": "code",
   "execution_count": null,
   "metadata": {},
   "outputs": [],
   "source": [
    "#Write a function print second maimum of a list\n",
    "def func(l):\n",
    "    l.remove(max(l))\n",
    "    print(max(l))\n",
    "    \n",
    "func([1,2,3,4,5])"
   ]
  },
  {
   "cell_type": "code",
   "execution_count": null,
   "metadata": {},
   "outputs": [],
   "source": [
    "#write a proram to print current date and time\n",
    "import datetime\n",
    "\n",
    "now = datetime.datetime.now()\n",
    "str(now)"
   ]
  },
  {
   "cell_type": "code",
   "execution_count": null,
   "metadata": {},
   "outputs": [],
   "source": [
    "#WAP to generate histogram printing \n",
    "\n",
    "li = [1, 2,5, 3, 5 ]  \n",
    "for val in li:\n",
    "    j = val * \"@\"\n",
    "    print(j)"
   ]
  },
  {
   "cell_type": "code",
   "execution_count": null,
   "metadata": {},
   "outputs": [],
   "source": [
    "#Write a function to print fabonici series\n",
    "def fabo(n):\n",
    "    if n == 0 or n == 1:\n",
    "        return 1\n",
    "    return (fabo(n-1) + fabo(n-2))\n",
    "\n",
    "i = int(input(''))\n",
    "for i in range(i):\n",
    "    print(fabo(i))"
   ]
  },
  {
   "cell_type": "code",
   "execution_count": null,
   "metadata": {},
   "outputs": [],
   "source": [
    "#Write a function to print hcf \n",
    "def HCF(x,y):\n",
    "    if x < y :\n",
    "        smaller = x\n",
    "    else:\n",
    "        smaller = y\n",
    "        \n",
    "    for i in range(1,smaller + 1):\n",
    "        if x % i == 0 and y % i == 0:\n",
    "            hcf = i\n",
    "            \n",
    "    return hcf\n",
    "\n",
    "num1 = int(input(''))\n",
    "num2 = int(input(''))\n",
    "\n",
    "print('Hcf = ',HCF(num1, num2))"
   ]
  },
  {
   "cell_type": "code",
   "execution_count": null,
   "metadata": {},
   "outputs": [],
   "source": [
    "#lcm \n",
    "def lcm(x,y, z):\n",
    "    if y > x and y > z:\n",
    "        greater = y\n",
    "    elif x > y and x > z:\n",
    "        greater = x\n",
    "    elif z > y and z > x:\n",
    "        greater = z\n",
    "        \n",
    "    for i in range(greater,greater * 10, greater):\n",
    "        if i % x == 0 and i % y == 0 and i % z  == 0:\n",
    "            lcm = i\n",
    "            \n",
    "            return lcm\n",
    "\n",
    "num1 = int(input(''))\n",
    "num2 = int(input(''))\n",
    "num3 = int(input(''))\n",
    "\n",
    "print('LCM = ',lcm(num1, num2, num3))"
   ]
  },
  {
   "cell_type": "code",
   "execution_count": null,
   "metadata": {},
   "outputs": [],
   "source": [
    "#Write a Python program to calculate the sum of the digits in an integer.   \n",
    "i = input('')\n",
    "x = 0\n",
    "for j in i:\n",
    "    x += int(j)\n",
    "    \n",
    "print(x)"
   ]
  },
  {
   "cell_type": "code",
   "execution_count": null,
   "metadata": {},
   "outputs": [],
   "source": [
    "#Write a Python program to sort three integers without using conditional statements and loops. \n",
    "\n",
    "i1 = int(input())\n",
    "i2 = int(input())\n",
    "i3 = int(input())\n",
    "a1 = min(i1, i2, i3)\n",
    "a3 = max(i1, i2, i3)\n",
    "a2 = (i1 + i2+ i3) - a1 - a3\n",
    "print(a1, a2, a3)"
   ]
  },
  {
   "cell_type": "code",
   "execution_count": null,
   "metadata": {},
   "outputs": [],
   "source": [
    "#Write a Python program to concatenate N strings. \n",
    "i = input('')\n",
    "while not(i == 'end' or i == 'END' or i == \"End\"):\n",
    "    \n",
    "    i += i \n",
    "    print(i)\n",
    "        \n",
    "    "
   ]
  },
  {
   "cell_type": "code",
   "execution_count": null,
   "metadata": {},
   "outputs": [],
   "source": []
  },
  {
   "cell_type": "code",
   "execution_count": null,
   "metadata": {},
   "outputs": [],
   "source": [
    "#Write code to convert Binary into decimal\n",
    "i = input()\n",
    "int(i, 2)  #int(i, 2) is used to convert binary into decimal"
   ]
  },
  {
   "cell_type": "code",
   "execution_count": null,
   "metadata": {},
   "outputs": [],
   "source": []
  },
  {
   "cell_type": "code",
   "execution_count": null,
   "metadata": {},
   "outputs": [],
   "source": [
    "#write a program to calculate factorial of input number.\n",
    "def fact(x):    # program for factorial\n",
    "    if x == 0:\n",
    "        return 1\n",
    "    return x * fact(x -1)\n",
    "\n",
    "fact(4)"
   ]
  },
  {
   "cell_type": "code",
   "execution_count": null,
   "metadata": {},
   "outputs": [],
   "source": [
    "\"\"\" Write a function takes a two-word string and returns True if both words begin with same letter\n",
    "\n",
    "animal_crackers('Levelheaded Llama') --> True\n",
    "animal_crackers('Crazy Kangaroo') --> False\"\"\"\n",
    "\n",
    "def animal_crackers(text):\n",
    "    word = text.split()\n",
    "    return word[0][0].lower() == word[1][0].lower()\n",
    "    "
   ]
  },
  {
   "cell_type": "code",
   "execution_count": null,
   "metadata": {},
   "outputs": [],
   "source": [
    "# Check\n",
    "print(animal_crackers('Levelheaded Llama'))\n",
    "print(animal_crackers('Crazy Kangaroo'))"
   ]
  },
  {
   "cell_type": "code",
   "execution_count": null,
   "metadata": {},
   "outputs": [],
   "source": [
    "\"\"\"MASTER YODA: Given a sentence, return a sentence with the words reversed\n",
    "\n",
    "master_yoda('I am home') --> 'home am I'\n",
    "master_yoda('We are ready') --> 'ready are We'\"\"\"\n",
    "def master_yoda(text):\n",
    "    t = text.split()\n",
    "    #t.reverse()  -use only for singal leter\n",
    "    return \" \".join(t[:: -1])       # join is only use to join string\n",
    "    pass"
   ]
  },
  {
   "cell_type": "code",
   "execution_count": null,
   "metadata": {},
   "outputs": [],
   "source": [
    "# Check\n",
    "print(master_yoda('I am home'))\n",
    "print(master_yoda('We are ready'))\n"
   ]
  },
  {
   "cell_type": "code",
   "execution_count": null,
   "metadata": {},
   "outputs": [],
   "source": [
    "\"\"\"Return the sum of the numbers in the array, except ignore sections of numbers starting with a 6 and extending to the next 9 (every 6 will be followed by at least one 9). Return 0 for no numbers.\n",
    "\n",
    "summer_69([1, 3, 5]) --> 9\n",
    "summer_69([4, 5, 6, 7, 8, 9]) --> 9\n",
    "summer_69([2, 1, 6, 9, 11]) --> 14\"\"\"\n",
    "def summer_69(arr):\n",
    "    if (6 and 9) in arr:\n",
    "        #arr.index(6) is used to get the index of 6 and the index is assigned to i_6 var\n",
    "        i_6 = arr.index(6)\n",
    "        #arr.index(9) is used to get the index of 9\n",
    "        i_9 = arr.index(9)\n",
    "        #del is used to delete an item from list using index, and can also remove multiple index\n",
    "        del arr[i_6 : i_9 +1]\n",
    "    return sum(arr)"
   ]
  },
  {
   "cell_type": "code",
   "execution_count": null,
   "metadata": {},
   "outputs": [],
   "source": [
    "# Check\n",
    "print(summer_69([1, 3, 5]))\n",
    "print(summer_69([4, 5, 6, 7, 8, 9]))\n",
    "print(summer_69([2, 1, 6, 9, 11]))"
   ]
  },
  {
   "cell_type": "code",
   "execution_count": null,
   "metadata": {},
   "outputs": [],
   "source": []
  },
  {
   "cell_type": "code",
   "execution_count": 1,
   "metadata": {},
   "outputs": [],
   "source": [
    "\"\"\" Write a function that takes in a single letter, and returns a 5x5 representation of that letter\n",
    "\n",
    "print_big('a')\n",
    "\n",
    "out:   *  \n",
    "      * *\n",
    "     *****\n",
    "     *   *\n",
    "     *   *\n",
    "\n",
    "\"\"\"\n",
    "\n",
    "#solution is upto d you can expand further\n",
    "def print_big(letter):\n",
    "    dic = {1: \"*****\", 2: \"*   *\", 3: \" * * \", 4: \"  *  \", 5 : \"****\"}\n",
    "    if letter.lower() == \"a\":\n",
    "        print(f\"{dic[4]}\\n{dic[3]}\\n{dic[1]}\\n{dic[2]}\\n{dic[2]}\")\n",
    "    elif letter.lower() == \"b\":\n",
    "         print(f\"{dic[5]}\\n{dic[2]}\\n{dic[5]}\\n{dic[2]}\\n{dic[5]}\")\n",
    "    elif letter.lower() == \"d\":\n",
    "         print(f\"{dic[5]}\\n{dic[2]}\\n{dic[2]}\\n{dic[2]}\\n{dic[5]}\")\n",
    "    pass"
   ]
  },
  {
   "cell_type": "code",
   "execution_count": 3,
   "metadata": {},
   "outputs": [
    {
     "name": "stdout",
     "output_type": "stream",
     "text": [
      "  *  \n",
      " * * \n",
      "*****\n",
      "*   *\n",
      "*   *\n"
     ]
    }
   ],
   "source": [
    "print_big('a')"
   ]
  },
  {
   "cell_type": "code",
   "execution_count": null,
   "metadata": {},
   "outputs": [],
   "source": [
    "\"\"\"COUNT PRIMES: Write a function that returns the number of prime numbers that exist up to and including a given number\n",
    "\n",
    "count_primes(100) --> 25\n",
    "\n",
    "By convention, 0 and 1 are not prime.\n",
    "\"\"\"\n"
   ]
  },
  {
   "cell_type": "code",
   "execution_count": null,
   "metadata": {},
   "outputs": [],
   "source": [
    "\"\"\"With a given integral number n, write a program to generate a dictionary that contains (i, i*i)\n",
    "  such that is an integral number between 1 and n (both included). and then the program should \n",
    "  print the dictionary.\n",
    "  Suppose the following input is supplied to the program:\n",
    "    5\n",
    "    Then, the output should be:\n",
    "    {1: 1, 2: 4, 3: 9, 4: 16, 5: 25}\n",
    "\"\"\"\n",
    "i = int(input())\n",
    "d = {}\n",
    "for n in range(1,i+1):\n",
    "    d[n] = n * n\n",
    "print(d)"
   ]
  },
  {
   "cell_type": "code",
   "execution_count": null,
   "metadata": {},
   "outputs": [],
   "source": [
    "#Write a Program to print all no.s between 2000 and 3000(both included) whose all digit is even. \n",
    "l = []\n",
    "for i in range(1000, 3001):\n",
    "    i = str(i)\n",
    "    if (int(i[0]) % 2 == 0) and (int(i[1]) % 2 == 0) and (int(i[2]) % 2 == 0) and (int(i[3]) % 2 == 0):\n",
    "        l.append(i)\n",
    "        print(i, end = \",\")"
   ]
  },
  {
   "cell_type": "code",
   "execution_count": null,
   "metadata": {},
   "outputs": [],
   "source": [
    "\"\"\"Write a program that accepts sequence of lines as input and prints the lines after making all characters in the sentence capitalized.\n",
    "    Suppose the following input is supplied to the program:\n",
    "    Hello Python!\n",
    "    Work hard when young\n",
    "    Then, the output should be:\n",
    "    HELLO PYTHON!\n",
    "    WORK HARD WHEN YOUNG\"\"\"\n",
    "lines = []\n",
    "while True:\n",
    "    s = input()\n",
    "    if s:\n",
    "        lines.append(s.upper())\n",
    "    else:\n",
    "        break;\n",
    "\n",
    "for sentence in lines:\n",
    "    print(sentence)\n"
   ]
  },
  {
   "cell_type": "code",
   "execution_count": null,
   "metadata": {},
   "outputs": [],
   "source": [
    "#Write a program to count digits and alphabets in an input string\n",
    "i = input()\n",
    "d = 0\n",
    "l = 0\n",
    "for w in i:\n",
    "    if w.isdigit():\n",
    "        d += 1\n",
    "    elif w.isalpha():\n",
    "        l += 1\n",
    "print(\"No. of digits:\", d)\n",
    "print(\"No. of alphabets: \", l)"
   ]
  },
  {
   "cell_type": "code",
   "execution_count": null,
   "metadata": {},
   "outputs": [],
   "source": [
    "#Write a programm to calculate a + aa + aaa + aaaa, of an input integer a\n",
    "i = input()\n",
    "j = int(i) + int(f\"{i}{i}\") + int(f\"{i}{i}{i}\") + int(f\"{i}{i}{i}{i}\") \n",
    "j"
   ]
  },
  {
   "cell_type": "code",
   "execution_count": null,
   "metadata": {},
   "outputs": [],
   "source": [
    "#WAP using list comprenshion,to find Square of odd no. from a given comma seperated input, \n",
    "i = input()\n",
    "l = [int(n) ** 2 for n in i.split(\",\") if int(n) % 2 != 0]\n",
    "l\n",
    "#print(\",\".join(l))"
   ]
  },
  {
   "cell_type": "code",
   "execution_count": null,
   "metadata": {},
   "outputs": [],
   "source": [
    "\"\"\"Write a program that computes the net amount of a bank account based a transaction \n",
    "    log from console input. The transaction log format is shown as following:\n",
    "D 300\n",
    "W 100\n",
    "\n",
    "D means deposit while W means withdrawal.\n",
    "Suppose the following input is supplied to the program:\n",
    "D 300\n",
    "D 300\n",
    "W 200\n",
    "D 100\n",
    "Then, the output should be:\n",
    "300\"\"\"\n",
    "\n",
    "amount = 0\n",
    "while True:                      #everythig inside while will start as its assign\n",
    "    i = input()\n",
    "    j = i.split(\" \")\n",
    "    if j[0].upper() == \"D\":\n",
    "        amount += int(j[1])\n",
    "        print(\"now:\",amount)\n",
    "        #del j[:]\n",
    "    elif j[0].upper() == \"W\":\n",
    "        amount -= int(j[1])\n",
    "        print(\"now:\",amount)\n",
    "        #del j[:]\n",
    "    elif j[0].lower() == \"result\":\n",
    "        print(\"amount:\", amount)\n",
    "    elif not i:\n",
    "        break"
   ]
  },
  {
   "cell_type": "code",
   "execution_count": null,
   "metadata": {},
   "outputs": [],
   "source": [
    "print(i)"
   ]
  },
  {
   "cell_type": "code",
   "execution_count": 2,
   "metadata": {},
   "outputs": [
    {
     "name": "stdout",
     "output_type": "stream",
     "text": [
      "ABd1234@1,a F1#,2w3E*,2We3345\n",
      "ABd1234@1,2We3345\n"
     ]
    }
   ],
   "source": [
    "\"\"\"A website requires the users to input username and password to register. Write a program to check \n",
    "    the validity of password input by users.\n",
    "    Following are the criteria for checking the password:\n",
    "    1. At least 1 letter between [a-z]\n",
    "    2. At least 1 number between [0-9]\n",
    "    3. At least 1 letter between [A-Z]\n",
    "    4. At least 1 character from [$#@]\n",
    "    5. Minimum length of transaction password: 6\n",
    "    6. Maximum length of transaction password: 12\n",
    "    Your program should accept a sequence of comma separated passwords and will check them according to the above criteria. Passwords that match the criteria are to be printed, each separated by a comma.\n",
    "    Example\n",
    "    If the following passwords are given as input to the program:\n",
    "    ABd1234@1,a F1#,2w3E*,2We3345\n",
    "    Then, the output of the program should be:\n",
    "    ABd1234@1\"\"\"\n",
    "\n",
    "import re\n",
    "i = input()\n",
    "j= i.split(\",\")\n",
    "#print(j)                                                  #good question to understand continue and pass\n",
    "s = []\n",
    "for p in j:\n",
    "    if not(6 <= len(p) <= 12):\n",
    "        continue\n",
    "    else:\n",
    "        pass\n",
    "    if not(re.search(\"[a-zA-Z0-9$#@]\", p)):\n",
    "        continue\n",
    "#     elif not(re.search(\"[A-Z]\", p)):\n",
    "#         continue\n",
    "#     elif not(re.search(\"[0-9]\",p)):\n",
    "#         continue\n",
    "#     elif not(re.search(\"[$#@]\", p)):\n",
    "#         continue\n",
    "    else:\n",
    "        pass\n",
    "        s.append(p)\n",
    "print(\",\".join(s))\n",
    "    "
   ]
  },
  {
   "cell_type": "code",
   "execution_count": null,
   "metadata": {},
   "outputs": [],
   "source": [
    "#Write a program using class methods to accept coordinates as a pair of tuples and return the slope and distance of the line.\n",
    "\n",
    "\n",
    "class Line:\n",
    "    \n",
    "    def __init__(self,coor1,coor2):\n",
    "        pass\n",
    "    \n",
    "    def distance(self):\n",
    "        pass\n",
    "    \n",
    "    def slope(self):\n",
    "        pass\n",
    "    \n",
    "coordinate1 = (3,2)\n",
    "coordinate2 = (8,10)\n",
    "\n",
    "li = Line(coordinate1,coordinate2)\n",
    "print(li.distance())\n",
    "print(li.slope())"
   ]
  },
  {
   "cell_type": "code",
   "execution_count": null,
   "metadata": {},
   "outputs": [],
   "source": []
  },
  {
   "cell_type": "code",
   "execution_count": null,
   "metadata": {},
   "outputs": [],
   "source": []
  },
  {
   "cell_type": "code",
   "execution_count": null,
   "metadata": {},
   "outputs": [],
   "source": []
  },
  {
   "cell_type": "code",
   "execution_count": null,
   "metadata": {},
   "outputs": [],
   "source": []
  },
  {
   "cell_type": "code",
   "execution_count": null,
   "metadata": {},
   "outputs": [],
   "source": []
  }
 ],
 "metadata": {
  "kernelspec": {
   "display_name": "Python 3",
   "language": "python",
   "name": "python3"
  },
  "language_info": {
   "codemirror_mode": {
    "name": "ipython",
    "version": 3
   },
   "file_extension": ".py",
   "mimetype": "text/x-python",
   "name": "python",
   "nbconvert_exporter": "python",
   "pygments_lexer": "ipython3",
   "version": "3.6.3rc1"
  }
 },
 "nbformat": 4,
 "nbformat_minor": 2
}
